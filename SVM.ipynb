{
 "cells": [
  {
   "cell_type": "code",
   "execution_count": 2,
   "metadata": {},
   "outputs": [],
   "source": [
    "from sklearn.svm import SVC\n",
    "from cvxopt import matrix\n",
    "from cvxopt import solvers\n",
    "import cvxpy as cp\n",
    "import numpy as np\n",
    "import matplotlib.pyplot as plt\n",
    "import pandas as pd\n",
    "from sklearn.svm import SVC\n",
    "from sklearn.metrics import accuracy_score"
   ]
  },
  {
   "cell_type": "code",
   "execution_count": 4,
   "metadata": {},
   "outputs": [],
   "source": [
    "# import data\n",
    "train = pd.read_csv('data/train.csv', header=None)\n",
    "test = pd.read_csv('data/test.csv', header=None)\n",
    "\n",
    "\n",
    "train_data = train.iloc[:4000, 1:].to_numpy()\n",
    "val_data = train.iloc[4000:, 1:].to_numpy()\n",
    "\n",
    "train_label = train.iloc[:4000, 0].to_numpy()\n",
    "val_label = train.iloc[4000:, 0].to_numpy()\n",
    "\n",
    "\n",
    "test_data = test.iloc[:, 1:].to_numpy()\n",
    "test_label = test.iloc[:, 0].to_numpy()\n",
    "\n",
    "train_label = np.where(train_label == 0, -1, train_label)\n",
    "val_label = np.where(val_label == 0, -1, val_label)\n",
    "test_label = np.where(test_label == 0, -1, test_label)"
   ]
  },
  {
   "cell_type": "code",
   "execution_count": 6,
   "metadata": {},
   "outputs": [],
   "source": [
    "# Question 2\n",
    "def svm_train_primal(data_train, label_train, regularisation_para_C):\n",
    "    m, n = data_train.shape\n",
    "    \n",
    "    w = cp.Variable(n)\n",
    "    b = cp.Variable()\n",
    "    xi = cp.Variable(m, pos=True)\n",
    "\n",
    "    objective = cp.Minimize(0.5 * cp.square(cp.norm(w)) + (regularisation_para_C / m) * cp.sum(xi))\n",
    "    constraints = [label_train[i] * (data_train[i,:] @ w + b) >= 1 - xi[i] for i in range(m)]\n",
    "\n",
    "    prob = cp.Problem(objective, constraints)\n",
    "    prob.solve()\n",
    "    \n",
    "    svm_model = {'w': w.value, 'b': b.value, 'xi': xi.value}\n",
    "    return svm_model\n",
    "\n",
    "def svm_predict_primal(data_test, label_test, svm_model):\n",
    "    \n",
    "    w = svm_model['w']\n",
    "    b = svm_model['b']\n",
    "    predictions = np.sign(data_test @ w + b)\n",
    "    correct_predictions = np.sum(predictions == label_test)\n",
    "    accuracy = correct_predictions / len(label_test)\n",
    "    return accuracy"
   ]
  },
  {
   "cell_type": "code",
   "execution_count": 7,
   "metadata": {},
   "outputs": [
    {
     "name": "stdout",
     "output_type": "stream",
     "text": [
      "Validation accuracy: 0.9695555555555555\n",
      "Test accuracy: 0.968\n",
      "Solution for b: 1.7798137170833168\n",
      "Sum of w dimensions: -0.1452156803642558\n"
     ]
    }
   ],
   "source": [
    "# Question 2 output\n",
    "C = 100\n",
    "svm_model_primal = svm_train_primal(train_data, train_label, C)\n",
    "\n",
    "# Test the SVM\n",
    "val_accuracy = svm_predict_primal(val_data, val_label, svm_model_primal)\n",
    "test_accuracy = svm_predict_primal(test_data, test_label, svm_model_primal)\n",
    "print (f\"Validation accuracy: {val_accuracy}\")\n",
    "print(f\"Test accuracy: {test_accuracy}\")\n",
    "\n",
    "# Report the solution of b and sum of all dimensions of w\n",
    "print(f\"Solution for b: {svm_model_primal['b']}\")\n",
    "print(f\"Sum of w dimensions: {np.sum(svm_model_primal['w'])}\")"
   ]
  },
  {
   "cell_type": "code",
   "execution_count": 30,
   "metadata": {},
   "outputs": [],
   "source": [
    "# Question 3 \n",
    "\n",
    "def svm_train_dual(data, label, C):\n",
    "    m, n = data.shape\n",
    "    label = label.reshape(-1, 1)* 1.\n",
    "    y_X = label * data\n",
    "    H = np.dot(y_X, y_X.T) * 1.\n",
    "    P = matrix(H)\n",
    "    q = matrix(-np.ones((m,1)))\n",
    "    G = matrix(np.vstack((np.eye(m)*-1,np.eye(m))))\n",
    "    h = matrix(np.hstack((np.zeros(m),np.ones(m)* C/m)))\n",
    "    A = matrix(label.reshape(1,-1))\n",
    "    b = matrix(np.zeros(1))\n",
    "\n",
    "    sol = solvers.qp(P, q, G, h, A, b)\n",
    "\n",
    "    alphas = np.array(sol['x'])\n",
    "    threshold = 1e-5\n",
    "    w = ((label*alphas).T @ data).reshape(-1,1)\n",
    "    S = (alphas > threshold).flatten()\n",
    "    b_values = label[S] - np.dot(data[S], w)\n",
    "    b = np.mean(b_values)\n",
    "\n",
    "    svm = {\n",
    "        \"alphas\" : alphas,\n",
    "        \"w\" : w,\n",
    "        \"b\" : b\n",
    "    }\n",
    "    return svm"
   ]
  },
  {
   "cell_type": "code",
   "execution_count": 31,
   "metadata": {},
   "outputs": [
    {
     "name": "stdout",
     "output_type": "stream",
     "text": [
      "     pcost       dcost       gap    pres   dres\n",
      " 0: -3.8416e+02 -2.2800e+02  4e+04  1e+02  4e-13\n",
      " 1: -2.2204e+01 -2.2367e+02  1e+03  3e+00  4e-13\n",
      " 2: -1.2704e+01 -1.3798e+02  2e+02  4e-01  6e-14\n",
      " 3: -8.2452e+00 -4.8671e+01  6e+01  1e-01  2e-14\n",
      " 4: -6.5928e+00 -2.4543e+01  3e+01  4e-02  1e-14\n",
      " 5: -5.8533e+00 -1.1273e+01  7e+00  1e-02  1e-14\n",
      " 6: -5.9382e+00 -7.9755e+00  2e+00  2e-03  1e-14\n",
      " 7: -6.1146e+00 -6.9517e+00  1e+00  7e-04  1e-14\n",
      " 8: -6.2067e+00 -6.5700e+00  4e-01  1e-04  1e-14\n",
      " 9: -6.3032e+00 -6.4094e+00  1e-01  2e-05  1e-14\n",
      "10: -6.3347e+00 -6.3622e+00  3e-02  4e-06  1e-14\n",
      "11: -6.3454e+00 -6.3477e+00  2e-03  1e-07  1e-14\n",
      "12: -6.3464e+00 -6.3465e+00  2e-04  5e-09  1e-14\n",
      "13: -6.3464e+00 -6.3464e+00  4e-06  1e-10  1e-14\n",
      "Optimal solution found.\n"
     ]
    }
   ],
   "source": [
    "# Question 3 output\n",
    "C = 100\n",
    "svm_model_dual = svm_train_dual(train_data, train_label, C)"
   ]
  },
  {
   "cell_type": "code",
   "execution_count": 32,
   "metadata": {},
   "outputs": [],
   "source": [
    "# Question 4\n",
    "# since I already compute the w and b in the svm_train_dual function, I just return their values here.\n",
    "def transfer_to_primal(svm):\n",
    "    w = svm[\"w\"]\n",
    "    b = svm[\"b\"]\n",
    "    return w, b"
   ]
  },
  {
   "cell_type": "code",
   "execution_count": 33,
   "metadata": {},
   "outputs": [
    {
     "name": "stdout",
     "output_type": "stream",
     "text": [
      "Solution for b: 1.7389327654668258\n",
      "Sum of w dimensions: -0.14513522739521\n"
     ]
    }
   ],
   "source": [
    "# Question 4 output\n",
    "w, b = transfer_to_primal(svm_model_dual)\n",
    "print(f\"Solution for b: {b}\")\n",
    "print(f\"Sum of w dimensions: {np.sum(w)}\")"
   ]
  },
  {
   "cell_type": "code",
   "execution_count": 34,
   "metadata": {},
   "outputs": [],
   "source": [
    "#Question 5\n",
    "\n",
    "def support_vectors_primal(data, labels, svm_model):\n",
    "    w = svm_model['w']\n",
    "    b = svm_model['b']\n",
    "    xi = svm_model['xi']\n",
    "\n",
    "    decision_values = data @ w + b\n",
    "    support_vector_index = np.where((xi > 1e-5) | (np.abs(labels * decision_values - 1) < 1e-5))[0] \n",
    "    support_vector = data[support_vector_index]\n",
    "\n",
    "    return support_vector, support_vector_index"
   ]
  },
  {
   "cell_type": "code",
   "execution_count": 35,
   "metadata": {},
   "outputs": [
    {
     "name": "stdout",
     "output_type": "stream",
     "text": [
      "Support vectors: [[-0.36 -0.91 -0.99 ...  0.3   2.44 -1.26]\n",
      " [-0.33 -1.78 -1.3  ...  0.49  0.3   0.2 ]\n",
      " [-0.51 -1.29 -0.96 ...  0.72 -1.2   0.31]\n",
      " ...\n",
      " [-0.73 -1.19 -0.24 ...  1.46 -1.36  1.21]\n",
      " [ 1.77 -1.64  0.66 ...  0.7   0.16 -0.97]\n",
      " [ 0.4   0.16 -0.49 ...  0.89  0.21  1.09]]\n",
      "Indices of support vectors: [   0    6   11 ... 3991 3993 3998]\n"
     ]
    }
   ],
   "source": [
    "#Question 5 output\n",
    "\n",
    "vector, index = support_vectors_primal(train_data, train_label, svm_model_primal)\n",
    "print(\"Support vectors:\", vector)\n",
    "print(\"Indices of support vectors:\", index)"
   ]
  },
  {
   "cell_type": "code",
   "execution_count": 36,
   "metadata": {},
   "outputs": [],
   "source": [
    "# Question 6\n",
    "\n",
    "def support_vectors_dual(data, svm_dual):\n",
    "    threshold = 1e-5\n",
    "    alphas = svm_dual['alphas']\n",
    "\n",
    "    support_vector_index = np.where(alphas > threshold)[0]\n",
    "    support_vector = data[support_vector_index]\n",
    "    \n",
    "    return support_vector, support_vector_index"
   ]
  },
  {
   "cell_type": "code",
   "execution_count": 37,
   "metadata": {},
   "outputs": [
    {
     "name": "stdout",
     "output_type": "stream",
     "text": [
      "Support vectors: [[-0.36 -0.91 -0.99 ...  0.3   2.44 -1.26]\n",
      " [ 1.05 -1.79  0.9  ...  0.39  0.6  -1.66]\n",
      " [ 1.01 -1.13  1.49 ...  0.23 -0.3  -0.01]\n",
      " ...\n",
      " [ 2.16 -0.78 -0.78 ... -0.38  1.1   0.39]\n",
      " [ 0.36 -0.19 -1.06 ... -0.83 -0.2   0.12]\n",
      " [-0.73 -1.19 -0.24 ...  1.46 -1.36  1.21]]\n",
      "Indices of support vectors: [   0   16   28   29   41   54   58   68   80   88  127  130  140  145\n",
      "  147  150  199  208  239  253  263  266  275  281  284  296  305  307\n",
      "  332  344  356  377  395  401  403  405  414  420  424  432  433  441\n",
      "  446  450  473  479  495  510  521  525  532  547  561  563  564  567\n",
      "  576  581  587  595  604  610  637  642  656  660  678  703  708  709\n",
      "  725  736  737  752  768  774  796  799  809  816  821  826  834  843\n",
      "  844  856  861  873  905  909  932  935  948  965  967  988  989  993\n",
      " 1003 1017 1022 1050 1082 1098 1116 1123 1139 1142 1166 1167 1178 1179\n",
      " 1188 1219 1242 1266 1274 1295 1304 1320 1364 1371 1374 1377 1403 1406\n",
      " 1407 1414 1416 1437 1447 1474 1475 1478 1489 1492 1493 1531 1532 1536\n",
      " 1539 1555 1571 1592 1594 1598 1604 1616 1627 1635 1636 1651 1659 1664\n",
      " 1667 1672 1675 1680 1683 1684 1691 1692 1705 1706 1722 1724 1737 1775\n",
      " 1778 1780 1799 1825 1833 1835 1840 1848 1851 1852 1854 1859 1862 1864\n",
      " 1865 1869 1884 1886 1889 1890 1900 1921 1924 1957 1964 1972 1982 1993\n",
      " 2012 2021 2032 2035 2039 2047 2049 2051 2064 2066 2070 2088 2099 2100\n",
      " 2108 2112 2132 2136 2145 2167 2186 2189 2215 2249 2257 2263 2269 2278\n",
      " 2281 2283 2288 2289 2306 2309 2316 2352 2356 2360 2361 2374 2390 2406\n",
      " 2407 2416 2436 2438 2446 2452 2458 2482 2490 2497 2513 2518 2544 2546\n",
      " 2550 2558 2570 2575 2620 2622 2624 2642 2645 2647 2648 2658 2688 2691\n",
      " 2699 2703 2705 2711 2715 2718 2725 2728 2734 2751 2770 2813 2817 2857\n",
      " 2861 2874 2876 2885 2902 2905 2910 2919 2925 2937 2945 2953 2964 2978\n",
      " 2998 3003 3014 3018 3052 3056 3066 3072 3079 3082 3083 3099 3111 3127\n",
      " 3145 3159 3165 3180 3188 3198 3203 3205 3212 3216 3232 3244 3248 3284\n",
      " 3297 3326 3362 3364 3369 3371 3372 3376 3389 3397 3404 3414 3423 3429\n",
      " 3456 3462 3465 3467 3472 3481 3483 3485 3510 3517 3519 3533 3535 3558\n",
      " 3562 3564 3575 3588 3589 3596 3599 3607 3611 3613 3649 3651 3659 3672\n",
      " 3684 3687 3712 3725 3734 3735 3740 3752 3772 3809 3811 3835 3844 3845\n",
      " 3846 3869 3893 3905 3916 3925 3930 3942 3950 3953 3969 3985 3990 3991]\n"
     ]
    }
   ],
   "source": [
    "# Question 6 output\n",
    "\n",
    "vector, index = support_vectors_dual(train_data, svm_model_dual)\n",
    "print(\"Support vectors:\", vector)\n",
    "print(\"Indices of support vectors:\", index)"
   ]
  },
  {
   "cell_type": "code",
   "execution_count": 38,
   "metadata": {},
   "outputs": [
    {
     "name": "stderr",
     "output_type": "stream",
     "text": [
      "e:\\python\\Lib\\site-packages\\cvxpy\\problems\\problem.py:1387: UserWarning: Solution may be inaccurate. Try another solver, adjusting the solver settings, or solve with verbose=True for more information.\n",
      "  warnings.warn(\n"
     ]
    },
    {
     "name": "stdout",
     "output_type": "stream",
     "text": [
      "Test accuracy: 0.9746666666666667\n"
     ]
    }
   ],
   "source": [
    "# Question 7\n",
    "\n",
    "C_lst = [2**i for i in range(-10, 11, 2)]\n",
    "best_res = 0\n",
    "best_C = None\n",
    "lst_res = []\n",
    "for i in C_lst:\n",
    "    svm_model = svm_train_primal(train_data, train_label, i)\n",
    "    val_accuracy = svm_predict_primal(val_data, val_label, svm_model)\n",
    "    lst_res.append(val_accuracy)\n",
    "    if val_accuracy > best_res:\n",
    "        best_res = val_accuracy\n",
    "        best_C = i\n",
    "svm_model = svm_train_primal(train_data, train_label, best_C)\n",
    "test_accuracy = svm_predict_primal(test_data, test_label, svm_model)\n",
    "print(f\"Test accuracy: {test_accuracy}\")"
   ]
  },
  {
   "cell_type": "code",
   "execution_count": 17,
   "metadata": {},
   "outputs": [
    {
     "name": "stdout",
     "output_type": "stream",
     "text": [
      "0.0009765625 : 0.4908888888888889\n",
      "0.00390625 : 0.4908888888888889\n",
      "0.015625 : 0.4908888888888889\n",
      "0.0625 : 0.9244444444444444\n",
      "0.25 : 0.9622222222222222\n",
      "1 : 0.9717777777777777\n",
      "4 : 0.9748888888888889\n",
      "16 : 0.974\n",
      "64 : 0.9713333333333334\n",
      "256 : 0.966\n",
      "1024 : 0.9626666666666667\n"
     ]
    }
   ],
   "source": [
    "for i in range(len(lst_res)):\n",
    "    print (f\"{C_lst[i]} : {lst_res[i]}\")"
   ]
  },
  {
   "cell_type": "code",
   "execution_count": 40,
   "metadata": {},
   "outputs": [
    {
     "name": "stdout",
     "output_type": "stream",
     "text": [
      "Validation Set Accuracy: 0.9615555555555556\n",
      "Test Set Accuracy: 0.9613333333333334\n"
     ]
    }
   ],
   "source": [
    "# Question 8\n",
    "\n",
    "clf = SVC(kernel='linear', C=4)\n",
    "clf.fit(train_data, train_label)\n",
    "\n",
    "val_pred = clf.predict(val_data)\n",
    "print(\"Validation Set Accuracy:\", accuracy_score(val_label, val_pred))\n",
    "\n",
    "\n",
    "test_pred = clf.predict(test_data)\n",
    "print(\"Test Set Accuracy:\", accuracy_score(test_label, test_pred))"
   ]
  }
 ],
 "metadata": {
  "kernelspec": {
   "display_name": "Python 3",
   "language": "python",
   "name": "python3"
  },
  "language_info": {
   "codemirror_mode": {
    "name": "ipython",
    "version": 3
   },
   "file_extension": ".py",
   "mimetype": "text/x-python",
   "name": "python",
   "nbconvert_exporter": "python",
   "pygments_lexer": "ipython3",
   "version": "3.11.2"
  },
  "orig_nbformat": 4
 },
 "nbformat": 4,
 "nbformat_minor": 2
}
